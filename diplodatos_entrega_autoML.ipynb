{
  "cells": [
    {
      "cell_type": "markdown",
      "metadata": {
        "id": "f28ZpYxzqIn5"
      },
      "source": [
        "## Diplomatura en Ciencia de Datos, Aprendizaje Automático y sus Aplicaciones\n",
        "Edición 2022\n",
        "\n",
        "### **Entrega - AutoML**\n",
        "\n",
        "\n",
        "Integrantes\n",
        "\n",
        "*   Flores Diego\n",
        "*   Quiros Agustina"
      ]
    },
    {
      "cell_type": "markdown",
      "metadata": {
        "id": "N-Uvr9G2qIor"
      },
      "source": [
        "El propósito de este notebook es presentar las funcionalidades de esta librería:\n",
        "https://scikit-optimize.github.io/stable/"
      ]
    },
    {
      "cell_type": "markdown",
      "source": [
        "# Sección 1"
      ],
      "metadata": {
        "id": "6nm27cCq53qu"
      }
    },
    {
      "cell_type": "markdown",
      "metadata": {
        "id": "nbskfrx2qIoz"
      },
      "source": [
        "## Instalación:"
      ]
    },
    {
      "cell_type": "code",
      "execution_count": null,
      "metadata": {
        "id": "Wb57XYwGqIo2",
        "colab": {
          "base_uri": "https://localhost:8080/"
        },
        "outputId": "d5b44758-225e-4e95-a318-f46ccde9f82e"
      },
      "outputs": [
        {
          "output_type": "stream",
          "name": "stdout",
          "text": [
            "Looking in indexes: https://pypi.org/simple, https://us-python.pkg.dev/colab-wheels/public/simple/\n",
            "Collecting scikit-optimize\n",
            "  Downloading scikit_optimize-0.9.0-py2.py3-none-any.whl (100 kB)\n",
            "\u001b[?25l\r\u001b[K     |███▎                            | 10 kB 25.1 MB/s eta 0:00:01\r\u001b[K     |██████▌                         | 20 kB 14.4 MB/s eta 0:00:01\r\u001b[K     |█████████▉                      | 30 kB 19.9 MB/s eta 0:00:01\r\u001b[K     |█████████████                   | 40 kB 6.0 MB/s eta 0:00:01\r\u001b[K     |████████████████▍               | 51 kB 5.3 MB/s eta 0:00:01\r\u001b[K     |███████████████████▋            | 61 kB 6.3 MB/s eta 0:00:01\r\u001b[K     |██████████████████████▉         | 71 kB 7.2 MB/s eta 0:00:01\r\u001b[K     |██████████████████████████▏     | 81 kB 6.9 MB/s eta 0:00:01\r\u001b[K     |█████████████████████████████▍  | 92 kB 7.6 MB/s eta 0:00:01\r\u001b[K     |████████████████████████████████| 100 kB 4.8 MB/s \n",
            "\u001b[?25hRequirement already satisfied: scikit-learn>=0.20.0 in /usr/local/lib/python3.8/dist-packages (from scikit-optimize) (1.0.2)\n",
            "Collecting pyaml>=16.9\n",
            "  Downloading pyaml-21.10.1-py2.py3-none-any.whl (24 kB)\n",
            "Requirement already satisfied: numpy>=1.13.3 in /usr/local/lib/python3.8/dist-packages (from scikit-optimize) (1.21.6)\n",
            "Requirement already satisfied: scipy>=0.19.1 in /usr/local/lib/python3.8/dist-packages (from scikit-optimize) (1.7.3)\n",
            "Requirement already satisfied: joblib>=0.11 in /usr/local/lib/python3.8/dist-packages (from scikit-optimize) (1.2.0)\n",
            "Requirement already satisfied: PyYAML in /usr/local/lib/python3.8/dist-packages (from pyaml>=16.9->scikit-optimize) (6.0)\n",
            "Requirement already satisfied: threadpoolctl>=2.0.0 in /usr/local/lib/python3.8/dist-packages (from scikit-learn>=0.20.0->scikit-optimize) (3.1.0)\n",
            "Installing collected packages: pyaml, scikit-optimize\n",
            "Successfully installed pyaml-21.10.1 scikit-optimize-0.9.0\n"
          ]
        }
      ],
      "source": [
        "#pip install scikit-optimize"
      ]
    },
    {
      "cell_type": "markdown",
      "metadata": {
        "id": "OpblHBSYqIo7"
      },
      "source": [
        "## Imports"
      ]
    },
    {
      "cell_type": "code",
      "execution_count": null,
      "metadata": {
        "id": "TUlL9TfDqIo8"
      },
      "outputs": [],
      "source": [
        "import numpy as np\n",
        "np.random.seed(77)\n",
        "import matplotlib.pyplot as plt\n",
        "\n",
        "import itertools\n",
        "import warnings\n",
        "warnings.filterwarnings('ignore')\n",
        "\n",
        "from sklearn.datasets import load_digits\n",
        "from skopt import BayesSearchCV\n",
        "\n",
        "from sklearn.svm import SVC\n",
        "from sklearn.model_selection import train_test_split\n",
        "from sklearn.model_selection import GridSearchCV\n",
        "\n",
        "from sklearn.ensemble import RandomForestClassifier\n",
        "from sklearn.datasets import make_classification\n",
        "\n",
        "#Libreria a importar\n",
        "import skopt"
      ]
    },
    {
      "cell_type": "markdown",
      "metadata": {
        "id": "K18sjHvxqIo_"
      },
      "source": [
        "## Dataset"
      ]
    },
    {
      "cell_type": "markdown",
      "metadata": {
        "id": "hasYdtjgqIpA"
      },
      "source": [
        "El tema de mi mentoria de la diplomatura fue el armado de una cartera de criptomonedas, y para llevarla a cabo, se utilizaron modelos de aprendizaje no automático, es por eso que no podré utilizarlos para realizar esta entrega. En su lugar voy a utilizar el daaset de Digits, que se compone de 1797 ejemplos de dígitos escritos a mano de 8x8 pixeles. La elección de este dataset también es para acortar tiempos, ya que es un dataset relativamente pequeño y podremos probar sklearn-optimize en poco tiempo."
      ]
    },
    {
      "cell_type": "code",
      "execution_count": null,
      "metadata": {
        "id": "_rZg6zT9qIpD",
        "outputId": "41f5d75a-c28f-4084-90fe-1902ed78f791"
      },
      "outputs": [
        {
          "name": "stdout",
          "output_type": "stream",
          "text": [
            "(1797, 64)\n"
          ]
        }
      ],
      "source": [
        "from sklearn.datasets import load_digits\n",
        "digits = load_digits()\n",
        "print(digits.data.shape)"
      ]
    },
    {
      "cell_type": "code",
      "execution_count": null,
      "metadata": {
        "id": "dejaUuyIqIpe",
        "outputId": "1b370a55-3c42-447a-986e-6ae3e8d08274"
      },
      "outputs": [
        {
          "data": {
            "text/plain": [
              "<Figure size 432x288 with 0 Axes>"
            ]
          },
          "metadata": {},
          "output_type": "display_data"
        },
        {
          "data": {
            "image/png": "[encoded data removed]",
            "text/plain": [
              "<Figure size 288x288 with 1 Axes>"
            ]
          },
          "metadata": {
            "needs_background": "light"
          },
          "output_type": "display_data"
        }
      ],
      "source": [
        "plt.gray() \n",
        "plt.matshow(digits.images[0]) \n",
        "plt.show() "
      ]
    },
    {
      "cell_type": "markdown",
      "metadata": {
        "id": "jCRBBLePqIpj"
      },
      "source": [
        "## Optimización Bayesiana"
      ]
    },
    {
      "cell_type": "markdown",
      "metadata": {
        "id": "dhtx_3LRqIpk"
      },
      "source": [
        "### Primer Modelo - SVC"
      ]
    },
    {
      "cell_type": "markdown",
      "metadata": {
        "id": "gb091_T-qIpl"
      },
      "source": [
        "Divido el dataset en train y test, para luego hacer el entrenamiento y predicción."
      ]
    },
    {
      "cell_type": "code",
      "execution_count": null,
      "metadata": {
        "id": "6gh3VXhFqIpn"
      },
      "outputs": [],
      "source": [
        "X, y = load_digits(n_class=10, return_X_y=True)\n",
        "X_train, X_test, y_train, y_test = train_test_split(X, y, train_size=0.8, test_size=.2, random_state=77)"
      ]
    },
    {
      "cell_type": "markdown",
      "metadata": {
        "id": "99WKle2MqIpo"
      },
      "source": [
        "La función de optimización bayesiana permite buscar el mínimo de la función de pérdida."
      ]
    },
    {
      "cell_type": "code",
      "execution_count": null,
      "metadata": {
        "id": "qIiHZUgbqIpq"
      },
      "outputs": [],
      "source": [
        "opt = BayesSearchCV(\n",
        "    SVC(),\n",
        "    {\n",
        "        'C': (1e-6, 1e+6, 'log-uniform'),\n",
        "        'degree': (1, 8),\n",
        "        'kernel': ['linear', 'poly', 'rbf'],\n",
        "    },\n",
        "    n_iter=32,\n",
        "    cv=3\n",
        ")"
      ]
    },
    {
      "cell_type": "markdown",
      "metadata": {
        "id": "QUiK1UqjqIps"
      },
      "source": [
        "Voy a controlar el tiempo que demora el optimizador en correr, para luego compararlo con un GridSearchCV."
      ]
    },
    {
      "cell_type": "code",
      "execution_count": null,
      "metadata": {
        "tags": [],
        "id": "EuODl-9cqIpv",
        "outputId": "cde5e7a4-1f65-4229-dae5-db462f5325c1"
      },
      "outputs": [
        {
          "name": "stdout",
          "output_type": "stream",
          "text": [
            "Score train: 0.9874739039665971\n",
            "Score test: 0.9972222222222222\n",
            "CPU times: user 1min 12s, sys: 1.21 s, total: 1min 13s\n",
            "Wall time: 21.4 s\n"
          ]
        }
      ],
      "source": [
        "%%time \n",
        "\n",
        "opt.fit(X_train, y_train)\n",
        "\n",
        "print(\"Score train: %s\" % opt.best_score_)\n",
        "print(\"Score test: %s\" % opt.score(X_test, y_test))"
      ]
    },
    {
      "cell_type": "markdown",
      "metadata": {
        "id": "EqIjr2G4qIqA"
      },
      "source": [
        "Ahora creamos un modelo de GridSearchCV para obtener un segundo resultado, usando los mismos rangos de hiperparámetros y luego compararlo con la optimización Bayesiana."
      ]
    },
    {
      "cell_type": "code",
      "execution_count": null,
      "metadata": {
        "id": "cXRNddg-qIqE"
      },
      "outputs": [],
      "source": [
        "opt = GridSearchCV(\n",
        "    SVC(),\n",
        "    {\n",
        "        'C': (1e-6, 1e+6, 'log-uniform'),\n",
        "        'degree': (1, 8),\n",
        "        'kernel': ['linear', 'poly', 'rbf'],\n",
        "    },\n",
        "    cv=3\n",
        ")"
      ]
    },
    {
      "cell_type": "code",
      "execution_count": null,
      "metadata": {
        "id": "rqPBJnVpqIqI",
        "outputId": "67afc157-7c07-40b2-879d-b0c006c239d5"
      },
      "outputs": [
        {
          "name": "stdout",
          "output_type": "stream",
          "text": [
            "Score train: 0.9874739039665971\n",
            "Score test: 0.9972222222222222\n",
            "CPU times: user 2.7 s, sys: 3.96 ms, total: 2.7 s\n",
            "Wall time: 2.43 s\n"
          ]
        }
      ],
      "source": [
        "%%time \n",
        "\n",
        "opt.fit(X_train, y_train)\n",
        "\n",
        "print(\"Score train: %s\" % opt.best_score_)\n",
        "print(\"Score test: %s\" % opt.score(X_test, y_test))"
      ]
    },
    {
      "cell_type": "markdown",
      "metadata": {
        "id": "0k17k9YNqIqM"
      },
      "source": [
        "Podemos ver que la optimización Bayesiana en este caso resultó mucho más lenta en comparación con el GridSearchCV y los resultados fueron iguales, por lo que en este tipo de modelos simples, no conviene utilizarlo."
      ]
    },
    {
      "cell_type": "markdown",
      "metadata": {
        "id": "t-j5i2V2qIqO"
      },
      "source": [
        "### Segundo Modelo - RandomForest"
      ]
    },
    {
      "cell_type": "markdown",
      "metadata": {
        "id": "kGhgRIOfqIqT"
      },
      "source": [
        "Para el segundo ejemplo utilizo un modelo de Random Forest para aumenar la cantidad de hiperparámetros a optimizar y luego realizar la misma evaluación anterior."
      ]
    },
    {
      "cell_type": "markdown",
      "metadata": {
        "id": "H6xhuZuOqIqW"
      },
      "source": [
        "Mismo proceso, comenzamos con un GridSearchCV con una serie de hiperparámetros y rangos, para tener como modelo baseline y luego compararlo con la optimización Bayesiana."
      ]
    },
    {
      "cell_type": "code",
      "execution_count": null,
      "metadata": {
        "id": "mb974x1YqIqY"
      },
      "outputs": [],
      "source": [
        "X, y = load_digits(n_class=10, return_X_y=True)\n",
        "X_train, X_test, y_train, y_test = train_test_split(X, y, train_size=0.8, test_size=.2, random_state=77)"
      ]
    },
    {
      "cell_type": "code",
      "execution_count": null,
      "metadata": {
        "id": "Crk1oc3kqIqZ"
      },
      "outputs": [],
      "source": [
        "opt = GridSearchCV(\n",
        "    RandomForestClassifier(),\n",
        "    {\n",
        "        'n_estimators' : [10, 20, 30, 40, 50, 60, 80, 90, 100],\n",
        "        'max_depth' : [3, 4, 5, 6, 7, 8, 9, 10, 15, 20],\n",
        "        'min_samples_split' : [5, 10, 20, 50, 100],\n",
        "        'random_state' : [0],\n",
        "        'max_features': ['auto', 'sqrt', 'log2'],\n",
        "        'criterion' :['gini', 'entropy']\n",
        "    },\n",
        "    cv=5\n",
        ")"
      ]
    },
    {
      "cell_type": "code",
      "execution_count": null,
      "metadata": {
        "id": "CCg7rMyAqIqa",
        "outputId": "b8dda50b-6bed-48c9-80c3-5cae66d31c3c"
      },
      "outputs": [
        {
          "name": "stdout",
          "output_type": "stream",
          "text": [
            "Score train: 0.9756460511033682\n",
            "Score test: 0.9722222222222222\n",
            "CPU times: user 17min 53s, sys: 2.91 s, total: 17min 56s\n",
            "Wall time: 17min 56s\n"
          ]
        }
      ],
      "source": [
        "%%time\n",
        "opt.fit(X_train, y_train)\n",
        "\n",
        "print(\"Score train: %s\" % opt.best_score_)\n",
        "print(\"Score test: %s\" % opt.score(X_test, y_test))"
      ]
    },
    {
      "cell_type": "markdown",
      "metadata": {
        "id": "ED4itjHRqIqd"
      },
      "source": [
        "Ahora de nuevo, instancio el modelo de optimización Bayesiana para compararlo."
      ]
    },
    {
      "cell_type": "code",
      "execution_count": null,
      "metadata": {
        "id": "6HCVDX2AqIqf"
      },
      "outputs": [],
      "source": [
        "opt = BayesSearchCV(\n",
        "    RandomForestClassifier(),\n",
        "    {\n",
        "        'n_estimators' : [10, 20, 30, 40, 50, 60, 80, 90, 100],\n",
        "        'max_depth' : [3, 4, 5, 6, 7, 8, 9, 10, 15, 20],\n",
        "        'min_samples_split' : [5, 10, 20, 50, 100],\n",
        "        'random_state' : [0],\n",
        "        'max_features': ['auto', 'sqrt', 'log2'],\n",
        "        'criterion' :['gini', 'entropy']\n",
        "    },\n",
        "    n_iter=100,\n",
        "    cv=5\n",
        ")"
      ]
    },
    {
      "cell_type": "code",
      "execution_count": null,
      "metadata": {
        "id": "Pv-kS4XYqIqg",
        "outputId": "e70b8c40-94f8-4a91-b123-cb360c2c5a95"
      },
      "outputs": [
        {
          "name": "stdout",
          "output_type": "stream",
          "text": [
            "Score train: 0.9756460511033682\n",
            "Score test: 0.9722222222222222\n",
            "CPU times: user 15min 56s, sys: 20.6 s, total: 16min 16s\n",
            "Wall time: 5min 26s\n"
          ]
        }
      ],
      "source": [
        "%%time\n",
        "\n",
        "opt.fit(X_train, y_train)\n",
        "\n",
        "print(\"Score train: %s\" % opt.best_score_)\n",
        "print(\"Score test: %s\" % opt.score(X_test, y_test))"
      ]
    },
    {
      "cell_type": "markdown",
      "source": [
        "# Sección 2"
      ],
      "metadata": {
        "id": "RYGA6U1a6EVr"
      }
    },
    {
      "cell_type": "markdown",
      "source": [
        "En esta sección utilizaremos el Dataset correspondiente a la **Mentoría Churn Prediction**, el objetivo de la mentoría fue predecir la fuga de clientes de una plataforma musical. \n",
        "\n",
        "El dataset contiene datos sobre información a nivel usuario, información específica del uso de la plataforma, información a nivel canción, el mismo ya se encuentra curado al ser resultado de distintas tranformaciones aplicadas a lo largo del cuatrimestre."
      ],
      "metadata": {
        "id": "GQqvfBAEq-eZ"
      }
    },
    {
      "cell_type": "code",
      "source": [
        "import pandas as pd\n",
        "\n",
        "from sklearn.tree import DecisionTreeClassifier\n",
        "from sklearn.model_selection import train_test_split, GridSearchCV"
      ],
      "metadata": {
        "id": "zFmV0dvuH2ei"
      },
      "execution_count": null,
      "outputs": []
    },
    {
      "cell_type": "code",
      "source": [
        "churn = pd.read_csv(\n",
        "    'https://media.githubusercontent.com/media/qagustina/mentoria-churnprediction/master/df_churn_balanced.csv')"
      ],
      "metadata": {
        "id": "6z6LK7s-6XFG"
      },
      "execution_count": null,
      "outputs": []
    },
    {
      "cell_type": "code",
      "source": [
        "churn.describe()"
      ],
      "metadata": {
        "id": "DuGZ6TqSH57v",
        "colab": {
          "base_uri": "https://localhost:8080/",
          "height": 411
        },
        "outputId": "5c886b56-6e26-41dc-defc-ba3c8ca53e0e"
      },
      "execution_count": null,
      "outputs": [
        {
          "output_type": "execute_result",
          "data": {
            "text/plain": [
              "          churn_user          Error    NumInteracc     page_About  \\\n",
              "count  207264.000000  207264.000000  207264.000000  207264.000000   \n",
              "mean        0.500000      -0.032026      -0.042698      -0.000657   \n",
              "std         0.500001       0.965466       0.977514       0.992535   \n",
              "min         0.000000      -1.040746      -1.327542      -0.044083   \n",
              "25%         0.000000      -0.661996      -0.759238      -0.044083   \n",
              "50%         0.500000      -0.283247      -0.333248      -0.044083   \n",
              "75%         1.000000       0.474252       0.368327      -0.044083   \n",
              "max         1.000000       3.882998       3.318845      22.684616   \n",
              "\n",
              "       page_Add Friend  page_Add to Playlist    page_Cancel  \\\n",
              "count    207264.000000         207264.000000  207264.000000   \n",
              "mean          0.001190             -0.003858       0.021190   \n",
              "std           1.004686              0.987754       1.595802   \n",
              "min          -0.124722             -0.154758      -0.013695   \n",
              "25%          -0.124722             -0.154758      -0.013695   \n",
              "50%          -0.124722             -0.154758      -0.013695   \n",
              "75%          -0.124722             -0.154758      -0.013695   \n",
              "max           8.017841              6.461714      73.020476   \n",
              "\n",
              "       page_Cancellation Confirmation  page_Downgrade     page_Error  ...  \\\n",
              "count                   207264.000000   207264.000000  207264.000000  ...   \n",
              "mean                         0.021190        0.003107      -0.001011  ...   \n",
              "std                          1.595802        1.017944       0.983516  ...   \n",
              "min                         -0.013695       -0.085167      -0.030881  ...   \n",
              "25%                         -0.013695       -0.085167      -0.030881  ...   \n",
              "50%                         -0.013695       -0.085167      -0.030881  ...   \n",
              "75%                         -0.013695       -0.085167      -0.030881  ...   \n",
              "max                         73.020476       11.741607      32.382622  ...   \n",
              "\n",
              "           page_Home    page_Logout  page_Roll Advert  page_Save Settings  \\\n",
              "count  207264.000000  207264.000000     207264.000000       207264.000000   \n",
              "mean        0.002388      -0.000478          0.018756           -0.002415   \n",
              "std         1.005916       0.997793          1.072803            0.963100   \n",
              "min        -0.193638      -0.107124         -0.122152           -0.033305   \n",
              "25%        -0.193638      -0.107124         -0.122152           -0.033305   \n",
              "50%        -0.193638      -0.107124         -0.122152           -0.033305   \n",
              "75%        -0.193638      -0.107124         -0.122152           -0.033305   \n",
              "max         5.164274       9.334947          8.186533           30.025089   \n",
              "\n",
              "       page_Settings  page_Submit Downgrade  page_Submit Upgrade  \\\n",
              "count  207264.000000          207264.000000        207264.000000   \n",
              "mean        0.001447               0.002616             0.000690   \n",
              "std         1.009536               1.084270             1.014674   \n",
              "min        -0.075074              -0.014888            -0.023321   \n",
              "25%        -0.075074              -0.014888            -0.023321   \n",
              "50%        -0.075074              -0.014888            -0.023321   \n",
              "75%        -0.075074              -0.014888            -0.023321   \n",
              "max        13.320179              67.167923            42.878932   \n",
              "\n",
              "       page_Thumbs Down  page_Thumbs Up   page_Upgrade  \n",
              "count     207264.000000   207264.000000  207264.000000  \n",
              "mean           0.005885       -0.007702       0.006410  \n",
              "std            1.029627        0.982950       1.072105  \n",
              "min           -0.096897       -0.217395      -0.042814  \n",
              "25%           -0.096897       -0.217395      -0.042814  \n",
              "50%           -0.096897       -0.217395      -0.042814  \n",
              "75%           -0.096897       -0.217395      -0.042814  \n",
              "max           10.320214        4.599917      23.356983  \n",
              "\n",
              "[8 rows x 21 columns]"
            ],
            "text/html": [
              "\n",
              "  <div id=\"df-042f9b62-39aa-4dac-8af4-72d5f9bf2a5c\">\n",
              "    <div class=\"colab-df-container\">\n",
              "      <div>\n",
              "<style scoped>\n",
              "    .dataframe tbody tr th:only-of-type {\n",
              "        vertical-align: middle;\n",
              "    }\n",
              "\n",
              "    .dataframe tbody tr th {\n",
              "        vertical-align: top;\n",
              "    }\n",
              "\n",
              "    .dataframe thead th {\n",
              "        text-align: right;\n",
              "    }\n",
              "</style>\n",
              "<table border=\"1\" class=\"dataframe\">\n",
              "  <thead>\n",
              "    <tr style=\"text-align: right;\">\n",
              "      <th></th>\n",
              "      <th>churn_user</th>\n",
              "      <th>Error</th>\n",
              "      <th>NumInteracc</th>\n",
              "      <th>page_About</th>\n",
              "      <th>page_Add Friend</th>\n",
              "      <th>page_Add to Playlist</th>\n",
              "      <th>page_Cancel</th>\n",
              "      <th>page_Cancellation Confirmation</th>\n",
              "      <th>page_Downgrade</th>\n",
              "      <th>page_Error</th>\n",
              "      <th>...</th>\n",
              "      <th>page_Home</th>\n",
              "      <th>page_Logout</th>\n",
              "      <th>page_Roll Advert</th>\n",
              "      <th>page_Save Settings</th>\n",
              "      <th>page_Settings</th>\n",
              "      <th>page_Submit Downgrade</th>\n",
              "      <th>page_Submit Upgrade</th>\n",
              "      <th>page_Thumbs Down</th>\n",
              "      <th>page_Thumbs Up</th>\n",
              "      <th>page_Upgrade</th>\n",
              "    </tr>\n",
              "  </thead>\n",
              "  <tbody>\n",
              "    <tr>\n",
              "      <th>count</th>\n",
              "      <td>207264.000000</td>\n",
              "      <td>207264.000000</td>\n",
              "      <td>207264.000000</td>\n",
              "      <td>207264.000000</td>\n",
              "      <td>207264.000000</td>\n",
              "      <td>207264.000000</td>\n",
              "      <td>207264.000000</td>\n",
              "      <td>207264.000000</td>\n",
              "      <td>207264.000000</td>\n",
              "      <td>207264.000000</td>\n",
              "      <td>...</td>\n",
              "      <td>207264.000000</td>\n",
              "      <td>207264.000000</td>\n",
              "      <td>207264.000000</td>\n",
              "      <td>207264.000000</td>\n",
              "      <td>207264.000000</td>\n",
              "      <td>207264.000000</td>\n",
              "      <td>207264.000000</td>\n",
              "      <td>207264.000000</td>\n",
              "      <td>207264.000000</td>\n",
              "      <td>207264.000000</td>\n",
              "    </tr>\n",
              "    <tr>\n",
              "      <th>mean</th>\n",
              "      <td>0.500000</td>\n",
              "      <td>-0.032026</td>\n",
              "      <td>-0.042698</td>\n",
              "      <td>-0.000657</td>\n",
              "      <td>0.001190</td>\n",
              "      <td>-0.003858</td>\n",
              "      <td>0.021190</td>\n",
              "      <td>0.021190</td>\n",
              "      <td>0.003107</td>\n",
              "      <td>-0.001011</td>\n",
              "      <td>...</td>\n",
              "      <td>0.002388</td>\n",
              "      <td>-0.000478</td>\n",
              "      <td>0.018756</td>\n",
              "      <td>-0.002415</td>\n",
              "      <td>0.001447</td>\n",
              "      <td>0.002616</td>\n",
              "      <td>0.000690</td>\n",
              "      <td>0.005885</td>\n",
              "      <td>-0.007702</td>\n",
              "      <td>0.006410</td>\n",
              "    </tr>\n",
              "    <tr>\n",
              "      <th>std</th>\n",
              "      <td>0.500001</td>\n",
              "      <td>0.965466</td>\n",
              "      <td>0.977514</td>\n",
              "      <td>0.992535</td>\n",
              "      <td>1.004686</td>\n",
              "      <td>0.987754</td>\n",
              "      <td>1.595802</td>\n",
              "      <td>1.595802</td>\n",
              "      <td>1.017944</td>\n",
              "      <td>0.983516</td>\n",
              "      <td>...</td>\n",
              "      <td>1.005916</td>\n",
              "      <td>0.997793</td>\n",
              "      <td>1.072803</td>\n",
              "      <td>0.963100</td>\n",
              "      <td>1.009536</td>\n",
              "      <td>1.084270</td>\n",
              "      <td>1.014674</td>\n",
              "      <td>1.029627</td>\n",
              "      <td>0.982950</td>\n",
              "      <td>1.072105</td>\n",
              "    </tr>\n",
              "    <tr>\n",
              "      <th>min</th>\n",
              "      <td>0.000000</td>\n",
              "      <td>-1.040746</td>\n",
              "      <td>-1.327542</td>\n",
              "      <td>-0.044083</td>\n",
              "      <td>-0.124722</td>\n",
              "      <td>-0.154758</td>\n",
              "      <td>-0.013695</td>\n",
              "      <td>-0.013695</td>\n",
              "      <td>-0.085167</td>\n",
              "      <td>-0.030881</td>\n",
              "      <td>...</td>\n",
              "      <td>-0.193638</td>\n",
              "      <td>-0.107124</td>\n",
              "      <td>-0.122152</td>\n",
              "      <td>-0.033305</td>\n",
              "      <td>-0.075074</td>\n",
              "      <td>-0.014888</td>\n",
              "      <td>-0.023321</td>\n",
              "      <td>-0.096897</td>\n",
              "      <td>-0.217395</td>\n",
              "      <td>-0.042814</td>\n",
              "    </tr>\n",
              "    <tr>\n",
              "      <th>25%</th>\n",
              "      <td>0.000000</td>\n",
              "      <td>-0.661996</td>\n",
              "      <td>-0.759238</td>\n",
              "      <td>-0.044083</td>\n",
              "      <td>-0.124722</td>\n",
              "      <td>-0.154758</td>\n",
              "      <td>-0.013695</td>\n",
              "      <td>-0.013695</td>\n",
              "      <td>-0.085167</td>\n",
              "      <td>-0.030881</td>\n",
              "      <td>...</td>\n",
              "      <td>-0.193638</td>\n",
              "      <td>-0.107124</td>\n",
              "      <td>-0.122152</td>\n",
              "      <td>-0.033305</td>\n",
              "      <td>-0.075074</td>\n",
              "      <td>-0.014888</td>\n",
              "      <td>-0.023321</td>\n",
              "      <td>-0.096897</td>\n",
              "      <td>-0.217395</td>\n",
              "      <td>-0.042814</td>\n",
              "    </tr>\n",
              "    <tr>\n",
              "      <th>50%</th>\n",
              "      <td>0.500000</td>\n",
              "      <td>-0.283247</td>\n",
              "      <td>-0.333248</td>\n",
              "      <td>-0.044083</td>\n",
              "      <td>-0.124722</td>\n",
              "      <td>-0.154758</td>\n",
              "      <td>-0.013695</td>\n",
              "      <td>-0.013695</td>\n",
              "      <td>-0.085167</td>\n",
              "      <td>-0.030881</td>\n",
              "      <td>...</td>\n",
              "      <td>-0.193638</td>\n",
              "      <td>-0.107124</td>\n",
              "      <td>-0.122152</td>\n",
              "      <td>-0.033305</td>\n",
              "      <td>-0.075074</td>\n",
              "      <td>-0.014888</td>\n",
              "      <td>-0.023321</td>\n",
              "      <td>-0.096897</td>\n",
              "      <td>-0.217395</td>\n",
              "      <td>-0.042814</td>\n",
              "    </tr>\n",
              "    <tr>\n",
              "      <th>75%</th>\n",
              "      <td>1.000000</td>\n",
              "      <td>0.474252</td>\n",
              "      <td>0.368327</td>\n",
              "      <td>-0.044083</td>\n",
              "      <td>-0.124722</td>\n",
              "      <td>-0.154758</td>\n",
              "      <td>-0.013695</td>\n",
              "      <td>-0.013695</td>\n",
              "      <td>-0.085167</td>\n",
              "      <td>-0.030881</td>\n",
              "      <td>...</td>\n",
              "      <td>-0.193638</td>\n",
              "      <td>-0.107124</td>\n",
              "      <td>-0.122152</td>\n",
              "      <td>-0.033305</td>\n",
              "      <td>-0.075074</td>\n",
              "      <td>-0.014888</td>\n",
              "      <td>-0.023321</td>\n",
              "      <td>-0.096897</td>\n",
              "      <td>-0.217395</td>\n",
              "      <td>-0.042814</td>\n",
              "    </tr>\n",
              "    <tr>\n",
              "      <th>max</th>\n",
              "      <td>1.000000</td>\n",
              "      <td>3.882998</td>\n",
              "      <td>3.318845</td>\n",
              "      <td>22.684616</td>\n",
              "      <td>8.017841</td>\n",
              "      <td>6.461714</td>\n",
              "      <td>73.020476</td>\n",
              "      <td>73.020476</td>\n",
              "      <td>11.741607</td>\n",
              "      <td>32.382622</td>\n",
              "      <td>...</td>\n",
              "      <td>5.164274</td>\n",
              "      <td>9.334947</td>\n",
              "      <td>8.186533</td>\n",
              "      <td>30.025089</td>\n",
              "      <td>13.320179</td>\n",
              "      <td>67.167923</td>\n",
              "      <td>42.878932</td>\n",
              "      <td>10.320214</td>\n",
              "      <td>4.599917</td>\n",
              "      <td>23.356983</td>\n",
              "    </tr>\n",
              "  </tbody>\n",
              "</table>\n",
              "<p>8 rows × 21 columns</p>\n",
              "</div>\n",
              "      <button class=\"colab-df-convert\" onclick=\"convertToInteractive('df-042f9b62-39aa-4dac-8af4-72d5f9bf2a5c')\"\n",
              "              title=\"Convert this dataframe to an interactive table.\"\n",
              "              style=\"display:none;\">\n",
              "        \n",
              "  <svg xmlns=\"http://www.w3.org/2000/svg\" height=\"24px\"viewBox=\"0 0 24 24\"\n",
              "       width=\"24px\">\n",
              "    <path d=\"M0 0h24v24H0V0z\" fill=\"none\"/>\n",
              "    <path d=\"M18.56 5.44l.94 2.06.94-2.06 2.06-.94-2.06-.94-.94-2.06-.94 2.06-2.06.94zm-11 1L8.5 8.5l.94-2.06 2.06-.94-2.06-.94L8.5 2.5l-.94 2.06-2.06.94zm10 10l.94 2.06.94-2.06 2.06-.94-2.06-.94-.94-2.06-.94 2.06-2.06.94z\"/><path d=\"M17.41 7.96l-1.37-1.37c-.4-.4-.92-.59-1.43-.59-.52 0-1.04.2-1.43.59L10.3 9.45l-7.72 7.72c-.78.78-.78 2.05 0 2.83L4 21.41c.39.39.9.59 1.41.59.51 0 1.02-.2 1.41-.59l7.78-7.78 2.81-2.81c.8-.78.8-2.07 0-2.86zM5.41 20L4 18.59l7.72-7.72 1.47 1.35L5.41 20z\"/>\n",
              "  </svg>\n",
              "      </button>\n",
              "      \n",
              "  <style>\n",
              "    .colab-df-container {\n",
              "      display:flex;\n",
              "      flex-wrap:wrap;\n",
              "      gap: 12px;\n",
              "    }\n",
              "\n",
              "    .colab-df-convert {\n",
              "      background-color: #E8F0FE;\n",
              "      border: none;\n",
              "      border-radius: 50%;\n",
              "      cursor: pointer;\n",
              "      display: none;\n",
              "      fill: #1967D2;\n",
              "      height: 32px;\n",
              "      padding: 0 0 0 0;\n",
              "      width: 32px;\n",
              "    }\n",
              "\n",
              "    .colab-df-convert:hover {\n",
              "      background-color: #E2EBFA;\n",
              "      box-shadow: 0px 1px 2px rgba(60, 64, 67, 0.3), 0px 1px 3px 1px rgba(60, 64, 67, 0.15);\n",
              "      fill: #174EA6;\n",
              "    }\n",
              "\n",
              "    [theme=dark] .colab-df-convert {\n",
              "      background-color: #3B4455;\n",
              "      fill: #D2E3FC;\n",
              "    }\n",
              "\n",
              "    [theme=dark] .colab-df-convert:hover {\n",
              "      background-color: #434B5C;\n",
              "      box-shadow: 0px 1px 3px 1px rgba(0, 0, 0, 0.15);\n",
              "      filter: drop-shadow(0px 1px 2px rgba(0, 0, 0, 0.3));\n",
              "      fill: #FFFFFF;\n",
              "    }\n",
              "  </style>\n",
              "\n",
              "      <script>\n",
              "        const buttonEl =\n",
              "          document.querySelector('#df-042f9b62-39aa-4dac-8af4-72d5f9bf2a5c button.colab-df-convert');\n",
              "        buttonEl.style.display =\n",
              "          google.colab.kernel.accessAllowed ? 'block' : 'none';\n",
              "\n",
              "        async function convertToInteractive(key) {\n",
              "          const element = document.querySelector('#df-042f9b62-39aa-4dac-8af4-72d5f9bf2a5c');\n",
              "          const dataTable =\n",
              "            await google.colab.kernel.invokeFunction('convertToInteractive',\n",
              "                                                     [key], {});\n",
              "          if (!dataTable) return;\n",
              "\n",
              "          const docLinkHtml = 'Like what you see? Visit the ' +\n",
              "            '<a target=\"_blank\" href=https://colab.research.google.com/notebooks/data_table.ipynb>data table notebook</a>'\n",
              "            + ' to learn more about interactive tables.';\n",
              "          element.innerHTML = '';\n",
              "          dataTable['output_type'] = 'display_data';\n",
              "          await google.colab.output.renderOutput(dataTable, element);\n",
              "          const docLink = document.createElement('div');\n",
              "          docLink.innerHTML = docLinkHtml;\n",
              "          element.appendChild(docLink);\n",
              "        }\n",
              "      </script>\n",
              "    </div>\n",
              "  </div>\n",
              "  "
            ]
          },
          "metadata": {},
          "execution_count": 4
        }
      ]
    },
    {
      "cell_type": "markdown",
      "source": [
        "\n",
        "\n",
        "*   El dataset cuenta con 207264 filas, 21 columnas.\n",
        "\n"
      ],
      "metadata": {
        "id": "ViSa7GGWvyGp"
      }
    },
    {
      "cell_type": "code",
      "source": [
        "churn.shape"
      ],
      "metadata": {
        "id": "cmuCS35pIAIo",
        "colab": {
          "base_uri": "https://localhost:8080/"
        },
        "outputId": "718eb4d6-ad29-4dcf-82b8-885c08666744"
      },
      "execution_count": null,
      "outputs": [
        {
          "output_type": "execute_result",
          "data": {
            "text/plain": [
              "(207264, 21)"
            ]
          },
          "metadata": {},
          "execution_count": 5
        }
      ]
    },
    {
      "cell_type": "markdown",
      "source": [
        "División de datos"
      ],
      "metadata": {
        "id": "uIxbkldepgjb"
      }
    },
    {
      "cell_type": "code",
      "source": [
        "#Separamos el dataset en datos de entrada y salida\n",
        "y = churn.churn_user\n",
        "X = churn.drop('churn_user',axis = 1)"
      ],
      "metadata": {
        "id": "R3guJeenOV6h"
      },
      "execution_count": null,
      "outputs": []
    },
    {
      "cell_type": "code",
      "source": [
        "RANDOM_STATE = 45"
      ],
      "metadata": {
        "id": "eduiDlJ6QFhI"
      },
      "execution_count": null,
      "outputs": []
    },
    {
      "cell_type": "code",
      "source": [
        "X_train, X_test, y_train, y_test = train_test_split(X, y, test_size=0.2, random_state=RANDOM_STATE, stratify=y)"
      ],
      "metadata": {
        "id": "_2XC-n8GVKPA"
      },
      "execution_count": null,
      "outputs": []
    },
    {
      "cell_type": "markdown",
      "source": [
        "\n",
        "Probamos el modelo basado en árbol de desición `DecisionTreeClassifier` en  `GridSearchCV`.\n",
        "\n"
      ],
      "metadata": {
        "id": "B6VtUV_6pXah"
      }
    },
    {
      "cell_type": "code",
      "source": [
        "param_grid = {\n",
        "    'criterion': ['gini', 'entropy'],\n",
        "    'max_depth': [i for i in range(25,35)],\n",
        "    'min_samples_split': [2,10,15],\n",
        "    'max_features': ['auto', None]\n",
        "}"
      ],
      "metadata": {
        "id": "Of8TJx-67xED"
      },
      "execution_count": null,
      "outputs": []
    },
    {
      "cell_type": "code",
      "source": [
        "model = DecisionTreeClassifier(random_state=RANDOM_STATE)\n",
        "\n",
        "opt = GridSearchCV(model, param_grid, scoring='f1', cv=None) "
      ],
      "metadata": {
        "id": "eR4KqU965LeP"
      },
      "execution_count": null,
      "outputs": []
    },
    {
      "cell_type": "code",
      "source": [
        "%%time\n",
        "opt.fit(X_train, y_train)\n",
        "\n",
        "print(\"Score train: %s\" % opt.best_score_)\n",
        "print(\"Score test: %s\" % opt.score(X_test, y_test))"
      ],
      "metadata": {
        "id": "2VXEoXBj79F0",
        "colab": {
          "base_uri": "https://localhost:8080/"
        },
        "outputId": "ab8cc376-7095-4b15-b126-379d9f6e71af"
      },
      "execution_count": null,
      "outputs": [
        {
          "output_type": "stream",
          "name": "stdout",
          "text": [
            "Score train: 0.9959743223185862\n",
            "Score test: 0.9957465215197174\n",
            "CPU times: user 1min 38s, sys: 529 ms, total: 1min 38s\n",
            "Wall time: 1min 41s\n"
          ]
        }
      ]
    },
    {
      "cell_type": "markdown",
      "source": [
        "Probamos el mismo modelo en `BayesSearchCV` para luego compararlos."
      ],
      "metadata": {
        "id": "SY-h1p-HqhgT"
      }
    },
    {
      "cell_type": "code",
      "execution_count": null,
      "metadata": {
        "id": "wj08mdAH8YXA"
      },
      "outputs": [],
      "source": [
        "opt = BayesSearchCV(\n",
        "    DecisionTreeClassifier(),\n",
        "    {\n",
        "        'criterion': ['gini', 'entropy'],\n",
        "        'max_depth': [i for i in range(25,35)],\n",
        "        'min_samples_split': [2,10,15],\n",
        "        'max_features': ['auto', None],\n",
        "        'random_state' : [45]       \n",
        "    },\n",
        "    n_iter=100,\n",
        "    cv=None\n",
        ")"
      ]
    },
    {
      "cell_type": "code",
      "execution_count": null,
      "metadata": {
        "id": "ByV9VXxP8YXB",
        "colab": {
          "base_uri": "https://localhost:8080/"
        },
        "outputId": "83de9e16-a4f9-49ba-bfdb-42089b3e5bb6"
      },
      "outputs": [
        {
          "output_type": "stream",
          "name": "stdout",
          "text": [
            "Score train: 0.9959592540861912\n",
            "Score test: 0.9957301039731744\n",
            "CPU times: user 5min 48s, sys: 2min 12s, total: 8min 1s\n",
            "Wall time: 5min 29s\n"
          ]
        }
      ],
      "source": [
        "%%time\n",
        "\n",
        "opt.fit(X_train, y_train)\n",
        "\n",
        "print(\"Score train: %s\" % opt.best_score_)\n",
        "print(\"Score test: %s\" % opt.score(X_test, y_test))"
      ]
    },
    {
      "cell_type": "markdown",
      "metadata": {
        "id": "3dWS-X_TqIq2"
      },
      "source": [
        "\n",
        "\n",
        "# Conclusión final: Luego de probar en dos datasets distintos si se nota la diferencia entre un modelo y otro, ya que al ejecutar la optimización Bayesiana, obtenemos los mismos resultados que el GridSearchCV pero en un mayor tiempo, por lo que se concluye que es más efectivo en modelos más complejos y con una mayor cantidad de hiperparámetros.\n",
        "\n"
      ]
    }
  ],
  "metadata": {
    "kernelspec": {
      "display_name": "Python 3 (ipykernel)",
      "language": "python",
      "name": "python3"
    },
    "language_info": {
      "codemirror_mode": {
        "name": "ipython",
        "version": 3
      },
      "file_extension": ".py",
      "mimetype": "text/x-python",
      "name": "python",
      "nbconvert_exporter": "python",
      "pygments_lexer": "ipython3",
      "version": "3.9.12"
    },
    "colab": {
      "provenance": [],
      "toc_visible": true
    }
  },
  "nbformat": 4,
  "nbformat_minor": 0
}